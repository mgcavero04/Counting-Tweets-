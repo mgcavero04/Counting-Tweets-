{
  "nbformat": 4,
  "nbformat_minor": 0,
  "metadata": {
    "colab": {
      "provenance": [],
      "authorship_tag": "ABX9TyO59JypfQBnF4xGItQiWm9L",
      "include_colab_link": true
    },
    "kernelspec": {
      "name": "python3",
      "display_name": "Python 3"
    },
    "language_info": {
      "name": "python"
    }
  },
  "cells": [
    {
      "cell_type": "markdown",
      "metadata": {
        "id": "view-in-github",
        "colab_type": "text"
      },
      "source": [
        "<a href=\"https://colab.research.google.com/github/mgcavero04/Counting-Tweets-/blob/main/assignment3.ipynb\" target=\"_parent\"><img src=\"https://colab.research.google.com/assets/colab-badge.svg\" alt=\"Open In Colab\"/></a>"
      ]
    },
    {
      "cell_type": "code",
      "execution_count": null,
      "metadata": {
        "colab": {
          "base_uri": "https://localhost:8080/"
        },
        "id": "OFSX_USP4N4m",
        "outputId": "dda47240-2eb6-4898-ce31-eb03af3607d6"
      },
      "outputs": [
        {
          "output_type": "stream",
          "name": "stdout",
          "text": [
            "--- Tweets (tweets.json): ---\n",
            "+-------------+--------------------------------+-------+\n",
            "|geo          |tweet                           |user   |\n",
            "+-------------+--------------------------------+-------+\n",
            "|Atlanta      |It is a sunny day!              |Bob    |\n",
            "|Athens       |We have a football game today :)|Susan  |\n",
            "|Atlanta      |Today is cold.                  |David  |\n",
            "|Auburn       |I love Auburn University        |Lisa   |\n",
            "|Birmingham   |I will go to Atlanta today!     |Ben    |\n",
            "|San Francisco|We watch a movie today!         |Paul   |\n",
            "|San Diego    |It is hot today. Summer is here.|Smith  |\n",
            "|Log Angeles  |Oscar ceremony is wonderful!    |Ethan  |\n",
            "|Log Angeles  |I love Oscar ceremony!          |Emma   |\n",
            "|Orlando      |I will go to the beach!         |Rolando|\n",
            "|Miami        |Sunny Day!                      |Mia    |\n",
            "+-------------+--------------------------------+-------+\n",
            "\n",
            "--- City and State lookup table (cityStateMap.json): ---\n",
            "+-------------+----------+\n",
            "|city         |state     |\n",
            "+-------------+----------+\n",
            "|Atlanta      |Georgia   |\n",
            "|Athens       |Georgia   |\n",
            "|Miami        |Florida   |\n",
            "|Orlando      |Florida   |\n",
            "|Birmingham   |Alabama   |\n",
            "|Auburn       |Alabama   |\n",
            "|Log Angeles  |California|\n",
            "|San Francisco|California|\n",
            "|San Diego    |California|\n",
            "+-------------+----------+\n",
            "\n",
            "--- Number of tweets published in each state: ---\n",
            "+----------+-----+\n",
            "|     state|count|\n",
            "+----------+-----+\n",
            "|   Georgia|    3|\n",
            "|   Alabama|    2|\n",
            "|   Florida|    2|\n",
            "|California|    4|\n",
            "+----------+-----+\n",
            "\n"
          ]
        }
      ],
      "source": [
        "from __future__ import print_function\n",
        "\n",
        "import sys\n",
        "\n",
        "from pyspark.sql import SparkSession\n",
        "from pyspark.sql.functions import *\n",
        "from pyspark.sql.types import *\n",
        "#PySpark program: Count the number of 'cityStateMaps' made by each tweets, what is the average age of male and female in 'tweets' table\n",
        "if __name__ == \"__main__\":\n",
        "    spark = (SparkSession\n",
        "        .builder\n",
        "        .appName(\"PythontweetsCount\")\n",
        "        .getOrCreate())\n",
        "    # get the files\n",
        "    tweets_file = \"sample_data/tweets.json\"\n",
        "    cityStateMap_file = \"sample_data/cityStateMap.json\"\n",
        "    # read the tweets file into a Spark DataFrame\n",
        "    tweets_df = (spark.read.format(\"json\")\n",
        "        .option(\"header\", \"true\")\n",
        "        .option(\"inferSchema\", \"true\")\n",
        "        .load(tweets_file))\n",
        "    # read the cityStateMaps file into a Spark DataFrame\n",
        "    cityStateMap_df = (spark.read.format(\"json\")\n",
        "        .option(\"header\", \"true\")\n",
        "        .option(\"inferSchema\", \"true\")\n",
        "        .load(cityStateMap_file))\n",
        "    # show all tweets\n",
        "    tweetsTitle = \"--- Tweets (tweets.json): ---\"\n",
        "    print(tweetsTitle)\n",
        "    tweets_df.show(n=tweets_df.count(), truncate=False)\n",
        "    # show all cityStateMaps\n",
        "    cityStateMapTitle = \"--- City and State lookup table (cityStateMap.json): ---\"\n",
        "    print(cityStateMapTitle)\n",
        "    cityStateMap_df.show(n=cityStateMap_df.count(), truncate=False)\n",
        "    # Count the number of tweets published in each state\n",
        "    NumberOfTweetsTitle = \"--- Number of tweets published in each state: ---\"\n",
        "    print(NumberOfTweetsTitle)\n",
        "    cityStateMap_df.join(tweets_df, tweets_df.geo == cityStateMap_df.city\n",
        "    ).groupBy(\"state\").count().show()\n",
        "\n",
        "\n",
        "    spark.stop()"
      ]
    }
  ]
}